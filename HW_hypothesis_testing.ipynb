{
 "cells": [
  {
   "cell_type": "code",
   "execution_count": 1,
   "metadata": {},
   "outputs": [],
   "source": [
    "import numpy as np\n",
    "import pandas as pd\n",
    "from scipy import stats\n",
    "from numpy.core.multiarray import ndarray"
   ]
  },
  {
   "cell_type": "code",
   "execution_count": 2,
   "metadata": {},
   "outputs": [],
   "source": [
    "def proportions_diff_p_value(z_stat, alternative = 'two-sided'):\n",
    "    if alternative not in ('two-sided', 'less', 'greater'):\n",
    "        raise ValueError(\"alternative not recognized\\n\"\n",
    "                         \"should be 'two-sided', 'less' or 'greater'\")\n",
    "    \n",
    "    if alternative == 'two-sided':\n",
    "        return 2 * (1 - stats.norm.cdf(np.abs(z_stat)))\n",
    "    \n",
    "    if alternative == 'less':\n",
    "        return stats.norm.cdf(z_stat)\n",
    "\n",
    "    if alternative == 'greater':\n",
    "        return 1 - stats.norm.cdf(z_stat)"
   ]
  },
  {
   "cell_type": "code",
   "execution_count": 3,
   "metadata": {},
   "outputs": [],
   "source": [
    "def proportions_diff_test(n_successful_outcomes_first: int, n_successful_outcomes_second: int, n_samples_first: int, n_samples_second: int, alternative: str, alpha: float = 0.05):\n",
    "    n1 = n_samples_first\n",
    "    n2 = n_samples_second\n",
    "    \n",
    "    p1 = n_successful_outcomes_first / n_samples_first\n",
    "    p2 = n_successful_outcomes_second / n_samples_second\n",
    "    P = float(p1*n1 + p2*n2) / (n1 + n2)\n",
    "    \n",
    "    Z = (p1 - p2) / np.sqrt(P * (1 - P) * (1. / n1 + 1. / n2))\n",
    "    p_value = proportions_diff_p_value(Z, alternative)\n",
    "    result = f'Нулевая гипотеза {\"отклоняется\" if p_value < alpha else \"принимается\"}'\n",
    "    print(f\"Z: {Z}, {result}, p-value: {p_value}\")"
   ]
  },
  {
   "cell_type": "code",
   "execution_count": 4,
   "metadata": {},
   "outputs": [],
   "source": [
    "def mann_whitneyu_test(first_samples: ndarray, second_samples: ndarray, alternative: str, alpha: float=0.05):\n",
    "    statistic, p_value = stats.mannwhitneyu(first_samples, second_samples, alternative=alternative)\n",
    "    result = f'Нулевая гипотеза {\"отклоняется\" if p_value < alpha else \"принимается\"}'\n",
    "    print(f\"statistic: {statistic}, {result}, p-value: {p_value}\")"
   ]
  },
  {
   "cell_type": "markdown",
   "metadata": {},
   "source": [
    "### Задача 1"
   ]
  },
  {
   "cell_type": "code",
   "execution_count": 5,
   "metadata": {},
   "outputs": [
    {
     "name": "stdout",
     "output_type": "stream",
     "text": [
      "Z: 1.1497694901123454, Нулевая гипотеза принимается, p-value: 0.2502388245506466\n"
     ]
    }
   ],
   "source": [
    "proportions_diff_test(42, 65, 105, 195, 'two-sided')"
   ]
  },
  {
   "cell_type": "markdown",
   "metadata": {},
   "source": [
    "### Задача 2"
   ]
  },
  {
   "cell_type": "code",
   "execution_count": 6,
   "metadata": {},
   "outputs": [
    {
     "name": "stdout",
     "output_type": "stream",
     "text": [
      "Z: 4.744365458250511, Нулевая гипотеза отклоняется, p-value: 1.0458046975081459e-06\n"
     ]
    }
   ],
   "source": [
    "proportions_diff_test(172, 168, 175, 200, 'greater')"
   ]
  },
  {
   "cell_type": "markdown",
   "metadata": {},
   "source": [
    "### Задача 3"
   ]
  },
  {
   "cell_type": "code",
   "execution_count": 7,
   "metadata": {},
   "outputs": [],
   "source": [
    "first_samples = np.array([130, 110, 120, 140, 200, 130, 140, 170, 160, 140])\n",
    "second_samples = np.array([120, 190, 130, 160, 150, 120, 110, 120, 200])"
   ]
  },
  {
   "cell_type": "code",
   "execution_count": 8,
   "metadata": {},
   "outputs": [
    {
     "name": "stdout",
     "output_type": "stream",
     "text": [
      "statistic: 49.0, Нулевая гипотеза принимается, p-value: 0.3865038807479559\n"
     ]
    }
   ],
   "source": [
    "mann_whitneyu_test(first_samples, second_samples, 'greater')"
   ]
  },
  {
   "cell_type": "markdown",
   "metadata": {},
   "source": [
    "## Задача 4"
   ]
  },
  {
   "cell_type": "code",
   "execution_count": 9,
   "metadata": {},
   "outputs": [],
   "source": [
    "first_samples = np.array([102.4, 100.0, 67.6, 65.9, 64.7, 39.6, 31.2])\n",
    "second_samples = np.array([48.1, 45.5, 41.7, 35.4, 29.1, 18.9, 58.3, 68.8, 71.3, 94.3])"
   ]
  },
  {
   "cell_type": "code",
   "execution_count": 10,
   "metadata": {},
   "outputs": [
    {
     "name": "stdout",
     "output_type": "stream",
     "text": [
      "statistic: 46.0, Нулевая гипотеза принимается, p-value: 0.30550708686125383\n"
     ]
    }
   ],
   "source": [
    "mann_whitneyu_test(first_samples, second_samples, 'two-sided')"
   ]
  }
 ],
 "metadata": {
  "kernelspec": {
   "display_name": "Python 3",
   "language": "python",
   "name": "python3"
  },
  "language_info": {
   "codemirror_mode": {
    "name": "ipython",
    "version": 3
   },
   "file_extension": ".py",
   "mimetype": "text/x-python",
   "name": "python",
   "nbconvert_exporter": "python",
   "pygments_lexer": "ipython3",
   "version": "3.6.5"
  }
 },
 "nbformat": 4,
 "nbformat_minor": 4
}
